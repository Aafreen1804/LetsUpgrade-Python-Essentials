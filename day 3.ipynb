{
 "cells": [
  {
   "cell_type": "code",
   "execution_count": 6,
   "metadata": {},
   "outputs": [
    {
     "name": "stdout",
     "output_type": "stream",
     "text": [
      "('Subtraction is : ', (1+1j))\n"
     ]
    }
   ],
   "source": [
    "#question 1\n",
    "z1 = complex(2, 3) \n",
    "z2 = complex(1, 2) \n",
    "print( \"Subtraction is : \", z1-z2)"
   ]
  },
  {
   "cell_type": "code",
   "execution_count": 11,
   "metadata": {},
   "outputs": [
    {
     "name": "stdout",
     "output_type": "stream",
     "text": [
      "1.73205080757\n"
     ]
    }
   ],
   "source": [
    "#question 2\n",
    "a=9\n",
    "b=a**0.25\n",
    "print b"
   ]
  },
  {
   "cell_type": "code",
   "execution_count": 12,
   "metadata": {},
   "outputs": [
    {
     "name": "stdout",
     "output_type": "stream",
     "text": [
      "2\n",
      "1\n"
     ]
    }
   ],
   "source": [
    "#question 3\n",
    "x=1\n",
    "y=2\n",
    "temp=x\n",
    "x=y\n",
    "y=temp\n",
    "print x\n",
    "print y\n"
   ]
  },
  {
   "cell_type": "code",
   "execution_count": 15,
   "metadata": {},
   "outputs": [
    {
     "name": "stdout",
     "output_type": "stream",
     "text": [
      "20 34\n"
     ]
    }
   ],
   "source": [
    "#question 4\n",
    "x=34\n",
    "y=20\n",
    "x = x + y \n",
    "y = x - y  \n",
    "x = x - y   \n",
    "print x,y"
   ]
  },
  {
   "cell_type": "code",
   "execution_count": 26,
   "metadata": {},
   "outputs": [
    {
     "name": "stdout",
     "output_type": "stream",
     "text": [
      "0.0 21.1111111111\n"
     ]
    }
   ],
   "source": [
    "#question 5\n",
    "F=70\n",
    "K=((F + 459.67) * (5/9))\n",
    "C= (F - 32) / 1.8 \n",
    "print K,C"
   ]
  },
  {
   "cell_type": "code",
   "execution_count": 34,
   "metadata": {},
   "outputs": [
    {
     "name": "stdout",
     "output_type": "stream",
     "text": [
      "<type 'int'>\n",
      "<type 'float'>\n",
      "<type 'complex'>\n",
      "<type 'str'>\n",
      "<type 'list'>\n",
      "<type 'tuple'>\n",
      "<type 'dict'>\n"
     ]
    }
   ],
   "source": [
    "#question 6\n",
    "\n",
    "print (type(12))\n",
    "print (type(12.34))\n",
    "print (type(6+4j))\n",
    "print (type(\"hello\"))\n",
    "print (type([1,2,3,4]))\n",
    "print (type((1,2,3,4)))\n",
    "print (type({1:\"one\", 2:\"two\", 3:\"three\"}))"
   ]
  },
  {
   "cell_type": "code",
   "execution_count": 37,
   "metadata": {},
   "outputs": [
    {
     "ename": "SyntaxError",
     "evalue": "invalid syntax (<ipython-input-37-6afdb0fc930b>, line 2)",
     "output_type": "error",
     "traceback": [
      "\u001b[1;36m  File \u001b[1;32m\"<ipython-input-37-6afdb0fc930b>\"\u001b[1;36m, line \u001b[1;32m2\u001b[0m\n\u001b[1;33m    1. create a github account using your registered emailid\u001b[0m\n\u001b[1;37m            ^\u001b[0m\n\u001b[1;31mSyntaxError\u001b[0m\u001b[1;31m:\u001b[0m invalid syntax\n"
     ]
    }
   ],
   "source": [
    "#question 7\n",
    "1. create a github account using your registered email id\n",
    "2. create a new repository named LetsUpgarde AI-ML\n",
    "3. upload your assignments into the repository\n",
    "4. copy the url to submit it over the assigments google form in correspondance with the day of the assignment"
   ]
  },
  {
   "cell_type": "code",
   "execution_count": null,
   "metadata": {},
   "outputs": [],
   "source": []
  }
 ],
 "metadata": {
  "kernelspec": {
   "display_name": "Python 2",
   "language": "python",
   "name": "python2"
  },
  "language_info": {
   "codemirror_mode": {
    "name": "ipython",
    "version": 2
   },
   "file_extension": ".py",
   "mimetype": "text/x-python",
   "name": "python",
   "nbconvert_exporter": "python",
   "pygments_lexer": "ipython2",
   "version": "2.7.14"
  }
 },
 "nbformat": 4,
 "nbformat_minor": 2
}
