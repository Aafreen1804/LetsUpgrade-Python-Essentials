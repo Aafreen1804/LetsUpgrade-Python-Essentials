{
 "cells": [
  {
   "cell_type": "code",
   "execution_count": 10,
   "metadata": {},
   "outputs": [],
   "source": [
    "from IPython.display import clear_output\n",
    "board=[1,2,3,\n",
    "      4,5,6,\n",
    "      7,8,9]\n",
    "\n"
   ]
  },
  {
   "cell_type": "code",
   "execution_count": 15,
   "metadata": {},
   "outputs": [
    {
     "name": "stdout",
     "output_type": "stream",
     "text": [
      "1  |  2  |  3\n",
      "--------------\n",
      "4  |  5  |  6\n",
      "--------------\n",
      "7  |  8  |  9\n"
     ]
    }
   ],
   "source": [
    "def display_board():\n",
    "    clear_output()\n",
    "    print board[0],' | ',board[1],' | ',board[2]\n",
    "    print('--------------')\n",
    "    print board[3],' | ',board[4],' | ',board[5]\n",
    "    print('--------------') \n",
    "    print board[6],' | ',board[7],' | ',board[8]\n",
    "    \n",
    "display_board()\n"
   ]
  },
  {
   "cell_type": "code",
   "execution_count": 16,
   "metadata": {},
   "outputs": [],
   "source": [
    "def player_input(player):\n",
    "    player_symbol = ['X','O']\n",
    "    correct_input = True\n",
    "    position = int(input('player {playerNo} chance! Put {symbol} where you like!! '.format(playerNo = player +1, symbol = player_symbol[player])))\n",
    "    if board[position] == 'X' or board[position] == 'O':\n",
    "        correct_input = False\n",
    "    \n",
    "    if not correct_input:\n",
    "        print(\"Position is already filled, try another position\")\n",
    "        player_input(player)\n",
    "    else:\n",
    "        empty.remove(position)\n",
    "        board[position] = player_symbol[player] \n",
    "        return 1"
   ]
  },
  {
   "cell_type": "code",
   "execution_count": 17,
   "metadata": {},
   "outputs": [],
   "source": [
    "def check_win():\n",
    "    player_symbol = ['X','O']\n",
    "    winning_positions =[[0,1,2],[3,4,5],[6,7,8],[0,3,6],[1,4,7],[2,5,8],[0,4,8],[2,4,6]]\n",
    "    for check in winning_positions:\n",
    "        first_symbol = board[check[0]]\n",
    "        if first_symbol != ' ':\n",
    "            won = True\n",
    "            for point in check:\n",
    "                if board[point] !=  first_symbol:\n",
    "                    won = False\n",
    "                    break\n",
    "            if won:\n",
    "                if first_symbol == player_symbol[0]:\n",
    "                    print('player 1 won')\n",
    "                else:\n",
    "                    print('player 2 won')\n",
    "                break\n",
    "        else:\n",
    "            won = False\n",
    "    if won:\n",
    "        return 0\n",
    "    else:\n",
    "        return 1"
   ]
  },
  {
   "cell_type": "code",
   "execution_count": 19,
   "metadata": {},
   "outputs": [],
   "source": [
    "def play():\n",
    "    player = 0\n",
    "    while empty and check_win():    \n",
    "        display_board()\n",
    "        player_input(player)\n",
    "        player = int(not player)\n",
    "    if not empty:\n",
    "        print(\"NO WINNER!\")"
   ]
  },
  {
   "cell_type": "code",
   "execution_count": null,
   "metadata": {},
   "outputs": [],
   "source": []
  }
 ],
 "metadata": {
  "kernelspec": {
   "display_name": "Python 2",
   "language": "python",
   "name": "python2"
  },
  "language_info": {
   "codemirror_mode": {
    "name": "ipython",
    "version": 2
   },
   "file_extension": ".py",
   "mimetype": "text/x-python",
   "name": "python",
   "nbconvert_exporter": "python",
   "pygments_lexer": "ipython2",
   "version": "2.7.14"
  }
 },
 "nbformat": 4,
 "nbformat_minor": 2
}
