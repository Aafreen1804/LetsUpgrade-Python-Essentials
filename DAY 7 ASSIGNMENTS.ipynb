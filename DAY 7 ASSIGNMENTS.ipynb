{
 "cells": [
  {
   "cell_type": "code",
   "execution_count": 1,
   "metadata": {},
   "outputs": [
    {
     "name": "stdout",
     "output_type": "stream",
     "text": [
      "Overwriting file1.py\n"
     ]
    }
   ],
   "source": [
    "%%writefile file1.py\n",
    "import sys\n",
    "n=int(sys.argv[1]) \n",
    "def primeNumbers(num):\n",
    "    \n",
    "    if num > 1: \n",
    "        for i in range(2, num//2): \n",
    "            if (num % i) == 0: \n",
    "                print(num, \"is not a prime number\") \n",
    "                break\n",
    "            else: \n",
    "                print(num, \"is a prime number\") \n",
    "    else: \n",
    "        print(num, \"is not a prime number\") \n",
    "        \n",
    "primeNumbers(n) "
   ]
  },
  {
   "cell_type": "code",
   "execution_count": 2,
   "metadata": {},
   "outputs": [
    {
     "name": "stderr",
     "output_type": "stream",
     "text": [
      "Traceback (most recent call last):\n",
      "  File \"file1.py\", line 2, in <module>\n",
      "    n=int(sys.argv[1]) \n",
      "IndexError: list index out of range\n"
     ]
    }
   ],
   "source": [
    "! python file1.py"
   ]
  },
  {
   "cell_type": "code",
   "execution_count": 3,
   "metadata": {},
   "outputs": [],
   "source": [
    "#assignment 2\n",
    "def some_function(function_as_arg):\n",
    "        def wrap_fun():\n",
    "            print(\" I am the code on the top of the function\")\n",
    "            print(\"finding the nth term of the fibonacci series\")\n",
    "            print(function_as_arg)\n",
    "            print(\" I am the code at the bottomm of the function\");\n",
    "            \n",
    "        return wrap_fun"
   ]
  },
  {
   "cell_type": "code",
   "execution_count": 13,
   "metadata": {},
   "outputs": [],
   "source": [
    "def Fibonacci(n): \n",
    "    if n<0: \n",
    "        print(\"Incorrect input\") \n",
    "    # First Fibonacci number is 0 \n",
    "    elif n==1: \n",
    "        return 0\n",
    "    # Second Fibonacci number is 1 \n",
    "    elif n==2: \n",
    "        return 1\n",
    "    else: \n",
    "        return Fibonacci(n-1)+Fibonacci(n-2) \n",
    "  "
   ]
  },
  {
   "cell_type": "code",
   "execution_count": 14,
   "metadata": {},
   "outputs": [
    {
     "name": "stdout",
     "output_type": "stream",
     "text": [
      " I am the code on the top of the function\n",
      "finding the nth term of the fibonacci series\n",
      "21\n",
      " I am the code at the bottomm of the function\n"
     ]
    }
   ],
   "source": [
    "result=some_function(Fibonacci(9))\n",
    "result()"
   ]
  },
  {
   "cell_type": "code",
   "execution_count": null,
   "metadata": {},
   "outputs": [],
   "source": []
  }
 ],
 "metadata": {
  "kernelspec": {
   "display_name": "Python 2",
   "language": "python",
   "name": "python2"
  },
  "language_info": {
   "codemirror_mode": {
    "name": "ipython",
    "version": 2
   },
   "file_extension": ".py",
   "mimetype": "text/x-python",
   "name": "python",
   "nbconvert_exporter": "python",
   "pygments_lexer": "ipython2",
   "version": "2.7.14"
  }
 },
 "nbformat": 4,
 "nbformat_minor": 2
}
