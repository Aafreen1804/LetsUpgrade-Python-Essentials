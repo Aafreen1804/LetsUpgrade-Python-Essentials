{
 "cells": [
  {
   "cell_type": "code",
   "execution_count": 1,
   "metadata": {},
   "outputs": [
    {
     "name": "stdout",
     "output_type": "stream",
     "text": [
      "('Addition of two complex numbers : ', (7-4j))\n",
      "('Subtraction of two complex numbers : ', (1+10j))\n",
      "('Multiplication of two complex numbers : ', (33-19j))\n",
      "('Division of two complex numbers : ', (-0.15517241379310348+0.6379310344827587j))\n"
     ]
    }
   ],
   "source": [
    "#question 1\n",
    "print(\"Addition of two complex numbers : \",(4+3j)+(3-7j))\n",
    "print(\"Subtraction of two complex numbers : \",(4+3j)-(3-7j))\n",
    "print(\"Multiplication of two complex numbers : \",(4+3j)*(3-7j))\n",
    "print(\"Division of two complex numbers : \",(4+3j)/(3-7j))"
   ]
  },
  {
   "cell_type": "code",
   "execution_count": 4,
   "metadata": {},
   "outputs": [
    {
     "name": "stdout",
     "output_type": "stream",
     "text": [
      "0\n",
      "1\n",
      "2\n",
      "3\n",
      "4\n",
      "5\n",
      "6\n",
      "7\n",
      "8\n",
      "9\n",
      "10\n",
      "20\n",
      "30\n",
      "40\n"
     ]
    }
   ],
   "source": [
    "#question 2\n",
    "# It is a built-in function of Python. It is used when a user needs to perform an action for a specific number of times.\n",
    "#it can be called in three ways \n",
    "# 1.range(stop) takes one argument.\n",
    "# 2.range(start, stop) takes two arguments.\n",
    "# 3,range(start, stop, step) takes three arguments.\n",
    "\n",
    "# printing a number \n",
    "for i in range(10): \n",
    "    print(i) \n",
    "    \n",
    "# using range for iteration \n",
    "l = [10, 20, 30, 40] \n",
    "for i in range(len(l)): \n",
    "    print(l[i])\n",
    "    \n"
   ]
  },
  {
   "cell_type": "code",
   "execution_count": 6,
   "metadata": {},
   "outputs": [
    {
     "name": "stdout",
     "output_type": "stream",
     "text": [
      "1\n"
     ]
    }
   ],
   "source": [
    "#question 3\n",
    "a=60\n",
    "b=40\n",
    "if(a-b>25):\n",
    "    print a*b\n",
    "else:\n",
    "    print a/b"
   ]
  },
  {
   "cell_type": "code",
   "execution_count": 9,
   "metadata": {},
   "outputs": [
    {
     "name": "stdout",
     "output_type": "stream",
     "text": [
      "2\n",
      "14\n",
      "34\n",
      "62\n"
     ]
    }
   ],
   "source": [
    "#question 4\n",
    "ls=[1,2,3,4,5,6,7,8,9,11]\n",
    "for i in range(len(ls)): \n",
    "    if(ls[i]%2==0):\n",
    "        print (ls[i]*ls[i]-2)\n",
    "        \n",
    "    \n"
   ]
  },
  {
   "cell_type": "code",
   "execution_count": 12,
   "metadata": {},
   "outputs": [],
   "source": [
    "# question 5\n",
    "ls=[1,2,3,4,5,6,7,8,9,11]\n",
    "for i in range(len(ls)): \n",
    "    if((ls[i]/2)>7):\n",
    "        print ls[i]\n"
   ]
  },
  {
   "cell_type": "code",
   "execution_count": null,
   "metadata": {},
   "outputs": [],
   "source": []
  }
 ],
 "metadata": {
  "kernelspec": {
   "display_name": "Python 2",
   "language": "python",
   "name": "python2"
  },
  "language_info": {
   "codemirror_mode": {
    "name": "ipython",
    "version": 2
   },
   "file_extension": ".py",
   "mimetype": "text/x-python",
   "name": "python",
   "nbconvert_exporter": "python",
   "pygments_lexer": "ipython2",
   "version": "2.7.14"
  }
 },
 "nbformat": 4,
 "nbformat_minor": 2
}
