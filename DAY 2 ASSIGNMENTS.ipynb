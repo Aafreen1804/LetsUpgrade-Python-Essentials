{
 "cells": [
  {
   "cell_type": "code",
   "execution_count": 4,
   "metadata": {},
   "outputs": [
    {
     "name": "stdout",
     "output_type": "stream",
     "text": [
      "I love FCS\n"
     ]
    }
   ],
   "source": [
    "#assignment One\n",
    "\n",
    "file=open('aafreen.txt','w')\n",
    "file.write(\"I love FCS\")\n",
    "file.close()\n",
    "file = open(\"aafreen.txt\", \"r\") \n",
    "print file.read()\n",
    "file.close()         "
   ]
  },
  {
   "cell_type": "code",
   "execution_count": 9,
   "metadata": {},
   "outputs": [
    {
     "name": "stdout",
     "output_type": "stream",
     "text": [
      "enter the marks30\n",
      "fail\n"
     ]
    }
   ],
   "source": [
    "#assignment Two\n",
    "\n",
    "\n",
    "\n",
    "marks=input(\"enter the marks\")\n",
    "if(marks>90 and marks<=100):\n",
    "    print('A')\n",
    "elif(marks>80 and marks<=90):\n",
    "    print('B')\n",
    "elif(marks>70 and marks<=80):\n",
    "    print('c')\n",
    "elif(marks>60 and marks<=70):\n",
    "    print('D')\n",
    "elif(marks>50 and marks<=60):\n",
    "    print('E')\n",
    "else:\n",
    "    print('fail')\n",
    "\n"
   ]
  },
  {
   "cell_type": "code",
   "execution_count": null,
   "metadata": {},
   "outputs": [],
   "source": [
    "#assignment Three\n",
    "\n",
    "\n",
    "import random  \n",
    "r1 = random.randint(1, 250) \n",
    "value=input(\"enter the score\")\n",
    "if(value<1 and value>250):\n",
    "    print('Reduce your expectation for 20-20 Cricket')\n",
    "elif(value<=(r1+10) and (value>=(r1-10) ):\n",
    "     print('Close By you are real Indian Fan')\n",
    "else:\n",
    "     print('You dont watch that much!')"
   ]
  },
  {
   "cell_type": "code",
   "execution_count": null,
   "metadata": {},
   "outputs": [],
   "source": [
    "#assignment Four\n",
    "\n",
    "\n",
    "def roy_and_profile_pic():\n",
    "    L = input('enter minimum dimension of the picture')\n",
    "    N = input('enter the number of photos')\n",
    "    for t in xrange(N):\n",
    "        W,H = map(int,raw_input().split())\n",
    "        if W < L or H < L:\n",
    "            print 'UPLOAD ANOTHER'\n",
    "        else:\n",
    "            if W == H:\n",
    "                print 'ACCEPTED'\n",
    "            else:\n",
    "                print 'CROP IT'\n",
    "roy_and_profile_pic()\n"
   ]
  },
  {
   "cell_type": "markdown",
   "metadata": {},
   "source": []
  }
 ],
 "metadata": {
  "kernelspec": {
   "display_name": "Python 2",
   "language": "python",
   "name": "python2"
  },
  "language_info": {
   "codemirror_mode": {
    "name": "ipython",
    "version": 2
   },
   "file_extension": ".py",
   "mimetype": "text/x-python",
   "name": "python",
   "nbconvert_exporter": "python",
   "pygments_lexer": "ipython2",
   "version": "2.7.14"
  }
 },
 "nbformat": 4,
 "nbformat_minor": 2
}
