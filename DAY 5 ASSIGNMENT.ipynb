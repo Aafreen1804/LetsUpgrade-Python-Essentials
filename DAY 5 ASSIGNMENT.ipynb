{
 "cells": [
  {
   "cell_type": "code",
   "execution_count": 8,
   "metadata": {},
   "outputs": [
    {
     "name": "stdout",
     "output_type": "stream",
     "text": [
      "Enter amount to deposit400\n",
      "Enter amount to be Withdrawn: 4500\n",
      "\n",
      " withdrawl has exceeded available balance \n",
      "Enter amount to deposit30\n",
      "Enter amount to be Withdrawn: 12\n",
      "amount withdrawn = Rs. 12.0\n"
     ]
    }
   ],
   "source": [
    "class Bank_Account: \n",
    "    def __init__(self, owner, balance=0): \n",
    "        self.owner=owner;\n",
    "        self.balance=0\n",
    "    def deposit(self): \n",
    "        amount=float(input(\"Enter amount to deposit\")) \n",
    "        self.balance += amount \n",
    "    def withdraw(self): \n",
    "        amount = float(input(\"Enter amount to be Withdrawn: \")) \n",
    "        if self.balance>=amount: \n",
    "            self.balance-=amount \n",
    "            print 'amount withdrawn = Rs.', amount\n",
    "        else: \n",
    "            print(\"\\n withdrawl has exceeded available balance \")\n",
    "\n",
    "            \n",
    "s1 = Bank_Account('aafreen') \n",
    "s1.deposit() \n",
    "s1.withdraw() \n",
    "\n",
    "s2 = Bank_Account('Sai sir') \n",
    "s2.deposit() \n",
    "s2.withdraw()\n",
    "  "
   ]
  },
  {
   "cell_type": "code",
   "execution_count": 6,
   "metadata": {},
   "outputs": [
    {
     "name": "stdout",
     "output_type": "stream",
     "text": [
      "3.14159265359\n",
      "13.0761809194\n",
      "6.28318530718\n",
      "22.2511547323\n"
     ]
    }
   ],
   "source": [
    "import math \n",
    "pi = math.pi \n",
    "sqrt=math.sqrt\n",
    "class Circle():\n",
    "    def __init__(self, r,h):\n",
    "        self.radius = r\n",
    "        self.height = h\n",
    "\n",
    "    def volume(self):\n",
    "        return (pi * self.radius * self.radius * self.height/3)\n",
    "    \n",
    "    def surface_area(self):\n",
    "        return  (pi * self.radius * (self.radius + sqrt(self.radius* self.radius+ self.height*self.height)))\n",
    "try1 = Circle(1,3)\n",
    "print(try1.volume())\n",
    "print(try1.surface_area())\n",
    "\n",
    "try2 = Circle(1,6)\n",
    "print(try2.volume())\n",
    "print(try2.surface_area())"
   ]
  },
  {
   "cell_type": "code",
   "execution_count": null,
   "metadata": {},
   "outputs": [],
   "source": []
  },
  {
   "cell_type": "code",
   "execution_count": null,
   "metadata": {},
   "outputs": [],
   "source": []
  }
 ],
 "metadata": {
  "kernelspec": {
   "display_name": "Python 2",
   "language": "python",
   "name": "python2"
  },
  "language_info": {
   "codemirror_mode": {
    "name": "ipython",
    "version": 2
   },
   "file_extension": ".py",
   "mimetype": "text/x-python",
   "name": "python",
   "nbconvert_exporter": "python",
   "pygments_lexer": "ipython2",
   "version": "2.7.14"
  }
 },
 "nbformat": 4,
 "nbformat_minor": 2
}
