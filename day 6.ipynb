{
 "cells": [
  {
   "cell_type": "code",
   "execution_count": 3,
   "metadata": {},
   "outputs": [
    {
     "name": "stdout",
     "output_type": "stream",
     "text": [
      "enter the email address  af@aa.com\n",
      "aa\n"
     ]
    }
   ],
   "source": [
    "#question 1\n",
    "import re\n",
    "emailAddress =raw_input(\"enter the email address  \")\n",
    "pat2 = \"(\\w+)@(\\w+)\\.(com)\"\n",
    "r2 = re.match(pat2,emailAddress)\n",
    "print r2.group(2)\n"
   ]
  },
  {
   "cell_type": "code",
   "execution_count": 7,
   "metadata": {},
   "outputs": [
    {
     "name": "stdout",
     "output_type": "stream",
     "text": [
      "Input comma seperated words net,bad\n",
      "bad,net\n"
     ]
    }
   ],
   "source": [
    "#question 2\n",
    "items = raw_input(\"Input comma seperated words \")\n",
    "words = [word for word in items.split(\",\")]\n",
    "print(\",\".join(sorted(list(set(words)))))"
   ]
  },
  {
   "cell_type": "markdown",
   "metadata": {},
   "source": [
    "# question 3 \n",
    "'''since we were instructed over the assignments documents that only a single jupyter file should be uploaded for any given day, I have made all my notes regarding sets over the same NB '''\n",
    "\n",
    "## set A set is a collection which is unordered and unindexed. In Python sets are written with curly brackets.\n",
    "Example to create a Set:\n",
    "thisset = {\"apple\", \"banana\", \"cherry\"}\n",
    "print(thisset)\n",
    "\n",
    "## some pointers\n",
    "1.You cannot access items in a set by referring to an index, since sets are unordered the items has no index. But you can loop through the set items<br>\n",
    "2.Once a set is created, you cannot change its items, but you can add new items.<br>\n",
    "3.To add one item to a set use the add() method. To add more than one item to a set use the update() method<br>\n",
    "4.To determine how many items a set has, use the len() method.<br>\n",
    "5.To remove an item in a set, use the remove(), or the discard() method.<br>\n",
    "\n",
    "\n",
    "## some of the most frequently used set methods are:\n",
    "add()\tAdds an element to the set<br>\n",
    "clear()\tRemoves all the elements from the set<br>\n",
    "copy()\tReturns a copy of the set<br>\n",
    "difference()\tReturns a set containing the difference between two or more sets<br>\n",
    "difference_update()\tRemoves the items in this set that are also included in another, specified set<br>\n",
    "discard()\tRemove the specified item<br>\n",
    "intersection()\tReturns a set, that is the intersection of two other sets<br>\n",
    "intersection_update()\tRemoves the items in this set that are not present in other, specified set(s)<br>\n",
    "isdisjoint()\tReturns whether two sets have a intersection or not<br>\n",
    "issubset()\tReturns whether another set contains this set or not<br>\n",
    "issuperset()\tReturns whether this set contains another set or not<br>\n",
    "pop()\tRemoves an element from the set<br>\n",
    "remove()\tRemoves the specified element<br>\n",
    "symmetric_difference()\tReturns a set with the symmetric differences of two sets<br>\n",
    "symmetric_difference_update()\tinserts the symmetric differences from this set and another<br>\n",
    "union()\tReturn a set containing the union of sets<br>\n",
    "update()\tUpdate the set with the union of this set and others<br>\n"
   ]
  },
  {
   "cell_type": "code",
   "execution_count": 11,
   "metadata": {},
   "outputs": [
    {
     "name": "stdout",
     "output_type": "stream",
     "text": [
      "3\n"
     ]
    }
   ],
   "source": [
    "#question 4\n",
    "def getMissing(A): \n",
    "    n = len(A) \n",
    "    total = (n + 1)*(n + 2)/2\n",
    "    sum_of_A = sum(A) \n",
    "    return total - sum_of_A \n",
    "  \n",
    "# Driver program to test the above function \n",
    "A = [1, 2, 4, 5, 6,7,8,9] \n",
    "missing_number = getMissing(A) \n",
    "print(missing_number)"
   ]
  },
  {
   "cell_type": "code",
   "execution_count": 10,
   "metadata": {},
   "outputs": [
    {
     "name": "stdout",
     "output_type": "stream",
     "text": [
      "[12, 24, 35, 88, 120, 155]\n"
     ]
    }
   ],
   "source": [
    "#question 5\n",
    "test_list = [12, 24, 35, 24, 88, 120, 155, 88, 120, 155] \n",
    "res = [] \n",
    "for i in test_list: \n",
    "    if i not in res: \n",
    "        res.append(i) \n",
    "print (res) \n"
   ]
  },
  {
   "cell_type": "code",
   "execution_count": null,
   "metadata": {},
   "outputs": [],
   "source": []
  }
 ],
 "metadata": {
  "kernelspec": {
   "display_name": "Python 2",
   "language": "python",
   "name": "python2"
  },
  "language_info": {
   "codemirror_mode": {
    "name": "ipython",
    "version": 2
   },
   "file_extension": ".py",
   "mimetype": "text/x-python",
   "name": "python",
   "nbconvert_exporter": "python",
   "pygments_lexer": "ipython2",
   "version": "2.7.14"
  }
 },
 "nbformat": 4,
 "nbformat_minor": 2
}
